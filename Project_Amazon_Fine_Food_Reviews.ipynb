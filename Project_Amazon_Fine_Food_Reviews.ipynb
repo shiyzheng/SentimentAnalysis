{
  "nbformat": 4,
  "nbformat_minor": 0,
  "metadata": {
    "colab": {
      "provenance": [],
      "include_colab_link": true
    },
    "kernelspec": {
      "name": "python3",
      "display_name": "Python 3"
    },
    "language_info": {
      "name": "python"
    },
    "accelerator": "GPU",
    "gpuClass": "standard"
  },
  "cells": [
    {
      "cell_type": "markdown",
      "metadata": {
        "id": "view-in-github",
        "colab_type": "text"
      },
      "source": [
        "<a href=\"https://colab.research.google.com/github/AaruuC/SentimentAnalysis/blob/main/Project_Amazon_Fine_Food_Reviews.ipynb\" target=\"_parent\"><img src=\"https://colab.research.google.com/assets/colab-badge.svg\" alt=\"Open In Colab\"/></a>"
      ]
    },
    {
      "cell_type": "code",
      "execution_count": 30,
      "metadata": {
        "id": "qK44EYCPo5e6",
        "colab": {
          "base_uri": "https://localhost:8080/"
        },
        "outputId": "9abe5387-c680-4228-bfb3-4b4e476f3e9b"
      },
      "outputs": [
        {
          "output_type": "stream",
          "name": "stderr",
          "text": [
            "[nltk_data] Downloading package punkt to /root/nltk_data...\n",
            "[nltk_data]   Package punkt is already up-to-date!\n",
            "[nltk_data] Downloading package stopwords to /root/nltk_data...\n",
            "[nltk_data]   Package stopwords is already up-to-date!\n"
          ]
        }
      ],
      "source": [
        "# Some imports that you might need\n",
        "import pandas as pd\n",
        "import numpy as np\n",
        "import matplotlib.pyplot as plt\n",
        "import torch\n",
        "import nltk\n",
        "nltk.download('punkt')\n",
        "nltk.download('stopwords')\n",
        "import os\n",
        "import tarfile"
      ]
    },
    {
      "cell_type": "markdown",
      "source": [
        "For the data, you can click download at\n",
        "https://www.kaggle.com/datasets/snap/amazon-fine-food-reviews\n",
        "\n",
        "You can choose to store the data in your google drive and mount your drive for accessing them from the following cell."
      ],
      "metadata": {
        "id": "FqZlj1Y7pFma"
      }
    },
    {
      "cell_type": "code",
      "source": [
        "from google.colab import drive\n",
        "drive.mount('/content/drive')"
      ],
      "metadata": {
        "id": "ElFxwLInpMrc",
        "colab": {
          "base_uri": "https://localhost:8080/"
        },
        "outputId": "1141a014-a252-48b3-9f35-3436aafa02fe"
      },
      "execution_count": 31,
      "outputs": [
        {
          "output_type": "stream",
          "name": "stdout",
          "text": [
            "Drive already mounted at /content/drive; to attempt to forcibly remount, call drive.mount(\"/content/drive\", force_remount=True).\n"
          ]
        }
      ]
    },
    {
      "cell_type": "markdown",
      "source": [
        "Or you can download it by the following cell:"
      ],
      "metadata": {
        "id": "c2QxRycOp74a"
      }
    },
    {
      "cell_type": "code",
      "source": [
        "!pip install --upgrade --no-cache-dir gdown\n",
        "if not os.path.exists(\"Reviews.csv\"):\n",
        "    !gdown 1_kLSwiRYtiXF7h9V1FlTqTapOHiYU5Mk"
      ],
      "metadata": {
        "colab": {
          "base_uri": "https://localhost:8080/"
        },
        "id": "xPA3GZlwp7TP",
        "outputId": "e1cc8124-3b92-45a7-9db6-5a7e4346c506"
      },
      "execution_count": 32,
      "outputs": [
        {
          "output_type": "stream",
          "name": "stdout",
          "text": [
            "Looking in indexes: https://pypi.org/simple, https://us-python.pkg.dev/colab-wheels/public/simple/\n",
            "Requirement already satisfied: gdown in /usr/local/lib/python3.9/dist-packages (4.7.1)\n",
            "Requirement already satisfied: six in /usr/local/lib/python3.9/dist-packages (from gdown) (1.16.0)\n",
            "Requirement already satisfied: beautifulsoup4 in /usr/local/lib/python3.9/dist-packages (from gdown) (4.11.2)\n",
            "Requirement already satisfied: tqdm in /usr/local/lib/python3.9/dist-packages (from gdown) (4.65.0)\n",
            "Requirement already satisfied: filelock in /usr/local/lib/python3.9/dist-packages (from gdown) (3.12.0)\n",
            "Requirement already satisfied: requests[socks] in /usr/local/lib/python3.9/dist-packages (from gdown) (2.27.1)\n",
            "Requirement already satisfied: soupsieve>1.2 in /usr/local/lib/python3.9/dist-packages (from beautifulsoup4->gdown) (2.4.1)\n",
            "Requirement already satisfied: urllib3<1.27,>=1.21.1 in /usr/local/lib/python3.9/dist-packages (from requests[socks]->gdown) (1.26.15)\n",
            "Requirement already satisfied: certifi>=2017.4.17 in /usr/local/lib/python3.9/dist-packages (from requests[socks]->gdown) (2022.12.7)\n",
            "Requirement already satisfied: charset-normalizer~=2.0.0 in /usr/local/lib/python3.9/dist-packages (from requests[socks]->gdown) (2.0.12)\n",
            "Requirement already satisfied: idna<4,>=2.5 in /usr/local/lib/python3.9/dist-packages (from requests[socks]->gdown) (3.4)\n",
            "Requirement already satisfied: PySocks!=1.5.7,>=1.5.6 in /usr/local/lib/python3.9/dist-packages (from requests[socks]->gdown) (1.7.1)\n"
          ]
        }
      ]
    },
    {
      "cell_type": "code",
      "source": [
        "# Remeber to change the path here for the corresponding files you need\n",
        "df = pd.read_csv('Reviews.csv')\n",
        "print(df.shape)\n",
        "df = df.head(1000)\n",
        "print(df.shape)"
      ],
      "metadata": {
        "colab": {
          "base_uri": "https://localhost:8080/"
        },
        "id": "S8fuLnUHpdGB",
        "outputId": "8ee6a4ff-77fd-4d91-c513-c5f9b92f58c0"
      },
      "execution_count": 33,
      "outputs": [
        {
          "output_type": "stream",
          "name": "stdout",
          "text": [
            "(568454, 10)\n",
            "(1000, 10)\n"
          ]
        }
      ]
    },
    {
      "cell_type": "code",
      "source": [
        "df.head()"
      ],
      "metadata": {
        "colab": {
          "base_uri": "https://localhost:8080/",
          "height": 337
        },
        "id": "k6wEiINCq__X",
        "outputId": "1214537a-44a9-4a31-ae09-dc087c9d2108"
      },
      "execution_count": 34,
      "outputs": [
        {
          "output_type": "execute_result",
          "data": {
            "text/plain": [
              "   Id   ProductId          UserId                      ProfileName  \\\n",
              "0   1  B001E4KFG0  A3SGXH7AUHU8GW                       delmartian   \n",
              "1   2  B00813GRG4  A1D87F6ZCVE5NK                           dll pa   \n",
              "2   3  B000LQOCH0   ABXLMWJIXXAIN  Natalia Corres \"Natalia Corres\"   \n",
              "3   4  B000UA0QIQ  A395BORC6FGVXV                             Karl   \n",
              "4   5  B006K2ZZ7K  A1UQRSCLF8GW1T    Michael D. Bigham \"M. Wassir\"   \n",
              "\n",
              "   HelpfulnessNumerator  HelpfulnessDenominator  Score        Time  \\\n",
              "0                     1                       1      5  1303862400   \n",
              "1                     0                       0      1  1346976000   \n",
              "2                     1                       1      4  1219017600   \n",
              "3                     3                       3      2  1307923200   \n",
              "4                     0                       0      5  1350777600   \n",
              "\n",
              "                 Summary                                               Text  \n",
              "0  Good Quality Dog Food  I have bought several of the Vitality canned d...  \n",
              "1      Not as Advertised  Product arrived labeled as Jumbo Salted Peanut...  \n",
              "2  \"Delight\" says it all  This is a confection that has been around a fe...  \n",
              "3         Cough Medicine  If you are looking for the secret ingredient i...  \n",
              "4            Great taffy  Great taffy at a great price.  There was a wid...  "
            ],
            "text/html": [
              "\n",
              "  <div id=\"df-5a2c87e3-d772-4312-92e7-3528671e7b7b\">\n",
              "    <div class=\"colab-df-container\">\n",
              "      <div>\n",
              "<style scoped>\n",
              "    .dataframe tbody tr th:only-of-type {\n",
              "        vertical-align: middle;\n",
              "    }\n",
              "\n",
              "    .dataframe tbody tr th {\n",
              "        vertical-align: top;\n",
              "    }\n",
              "\n",
              "    .dataframe thead th {\n",
              "        text-align: right;\n",
              "    }\n",
              "</style>\n",
              "<table border=\"1\" class=\"dataframe\">\n",
              "  <thead>\n",
              "    <tr style=\"text-align: right;\">\n",
              "      <th></th>\n",
              "      <th>Id</th>\n",
              "      <th>ProductId</th>\n",
              "      <th>UserId</th>\n",
              "      <th>ProfileName</th>\n",
              "      <th>HelpfulnessNumerator</th>\n",
              "      <th>HelpfulnessDenominator</th>\n",
              "      <th>Score</th>\n",
              "      <th>Time</th>\n",
              "      <th>Summary</th>\n",
              "      <th>Text</th>\n",
              "    </tr>\n",
              "  </thead>\n",
              "  <tbody>\n",
              "    <tr>\n",
              "      <th>0</th>\n",
              "      <td>1</td>\n",
              "      <td>B001E4KFG0</td>\n",
              "      <td>A3SGXH7AUHU8GW</td>\n",
              "      <td>delmartian</td>\n",
              "      <td>1</td>\n",
              "      <td>1</td>\n",
              "      <td>5</td>\n",
              "      <td>1303862400</td>\n",
              "      <td>Good Quality Dog Food</td>\n",
              "      <td>I have bought several of the Vitality canned d...</td>\n",
              "    </tr>\n",
              "    <tr>\n",
              "      <th>1</th>\n",
              "      <td>2</td>\n",
              "      <td>B00813GRG4</td>\n",
              "      <td>A1D87F6ZCVE5NK</td>\n",
              "      <td>dll pa</td>\n",
              "      <td>0</td>\n",
              "      <td>0</td>\n",
              "      <td>1</td>\n",
              "      <td>1346976000</td>\n",
              "      <td>Not as Advertised</td>\n",
              "      <td>Product arrived labeled as Jumbo Salted Peanut...</td>\n",
              "    </tr>\n",
              "    <tr>\n",
              "      <th>2</th>\n",
              "      <td>3</td>\n",
              "      <td>B000LQOCH0</td>\n",
              "      <td>ABXLMWJIXXAIN</td>\n",
              "      <td>Natalia Corres \"Natalia Corres\"</td>\n",
              "      <td>1</td>\n",
              "      <td>1</td>\n",
              "      <td>4</td>\n",
              "      <td>1219017600</td>\n",
              "      <td>\"Delight\" says it all</td>\n",
              "      <td>This is a confection that has been around a fe...</td>\n",
              "    </tr>\n",
              "    <tr>\n",
              "      <th>3</th>\n",
              "      <td>4</td>\n",
              "      <td>B000UA0QIQ</td>\n",
              "      <td>A395BORC6FGVXV</td>\n",
              "      <td>Karl</td>\n",
              "      <td>3</td>\n",
              "      <td>3</td>\n",
              "      <td>2</td>\n",
              "      <td>1307923200</td>\n",
              "      <td>Cough Medicine</td>\n",
              "      <td>If you are looking for the secret ingredient i...</td>\n",
              "    </tr>\n",
              "    <tr>\n",
              "      <th>4</th>\n",
              "      <td>5</td>\n",
              "      <td>B006K2ZZ7K</td>\n",
              "      <td>A1UQRSCLF8GW1T</td>\n",
              "      <td>Michael D. Bigham \"M. Wassir\"</td>\n",
              "      <td>0</td>\n",
              "      <td>0</td>\n",
              "      <td>5</td>\n",
              "      <td>1350777600</td>\n",
              "      <td>Great taffy</td>\n",
              "      <td>Great taffy at a great price.  There was a wid...</td>\n",
              "    </tr>\n",
              "  </tbody>\n",
              "</table>\n",
              "</div>\n",
              "      <button class=\"colab-df-convert\" onclick=\"convertToInteractive('df-5a2c87e3-d772-4312-92e7-3528671e7b7b')\"\n",
              "              title=\"Convert this dataframe to an interactive table.\"\n",
              "              style=\"display:none;\">\n",
              "        \n",
              "  <svg xmlns=\"http://www.w3.org/2000/svg\" height=\"24px\"viewBox=\"0 0 24 24\"\n",
              "       width=\"24px\">\n",
              "    <path d=\"M0 0h24v24H0V0z\" fill=\"none\"/>\n",
              "    <path d=\"M18.56 5.44l.94 2.06.94-2.06 2.06-.94-2.06-.94-.94-2.06-.94 2.06-2.06.94zm-11 1L8.5 8.5l.94-2.06 2.06-.94-2.06-.94L8.5 2.5l-.94 2.06-2.06.94zm10 10l.94 2.06.94-2.06 2.06-.94-2.06-.94-.94-2.06-.94 2.06-2.06.94z\"/><path d=\"M17.41 7.96l-1.37-1.37c-.4-.4-.92-.59-1.43-.59-.52 0-1.04.2-1.43.59L10.3 9.45l-7.72 7.72c-.78.78-.78 2.05 0 2.83L4 21.41c.39.39.9.59 1.41.59.51 0 1.02-.2 1.41-.59l7.78-7.78 2.81-2.81c.8-.78.8-2.07 0-2.86zM5.41 20L4 18.59l7.72-7.72 1.47 1.35L5.41 20z\"/>\n",
              "  </svg>\n",
              "      </button>\n",
              "      \n",
              "  <style>\n",
              "    .colab-df-container {\n",
              "      display:flex;\n",
              "      flex-wrap:wrap;\n",
              "      gap: 12px;\n",
              "    }\n",
              "\n",
              "    .colab-df-convert {\n",
              "      background-color: #E8F0FE;\n",
              "      border: none;\n",
              "      border-radius: 50%;\n",
              "      cursor: pointer;\n",
              "      display: none;\n",
              "      fill: #1967D2;\n",
              "      height: 32px;\n",
              "      padding: 0 0 0 0;\n",
              "      width: 32px;\n",
              "    }\n",
              "\n",
              "    .colab-df-convert:hover {\n",
              "      background-color: #E2EBFA;\n",
              "      box-shadow: 0px 1px 2px rgba(60, 64, 67, 0.3), 0px 1px 3px 1px rgba(60, 64, 67, 0.15);\n",
              "      fill: #174EA6;\n",
              "    }\n",
              "\n",
              "    [theme=dark] .colab-df-convert {\n",
              "      background-color: #3B4455;\n",
              "      fill: #D2E3FC;\n",
              "    }\n",
              "\n",
              "    [theme=dark] .colab-df-convert:hover {\n",
              "      background-color: #434B5C;\n",
              "      box-shadow: 0px 1px 3px 1px rgba(0, 0, 0, 0.15);\n",
              "      filter: drop-shadow(0px 1px 2px rgba(0, 0, 0, 0.3));\n",
              "      fill: #FFFFFF;\n",
              "    }\n",
              "  </style>\n",
              "\n",
              "      <script>\n",
              "        const buttonEl =\n",
              "          document.querySelector('#df-5a2c87e3-d772-4312-92e7-3528671e7b7b button.colab-df-convert');\n",
              "        buttonEl.style.display =\n",
              "          google.colab.kernel.accessAllowed ? 'block' : 'none';\n",
              "\n",
              "        async function convertToInteractive(key) {\n",
              "          const element = document.querySelector('#df-5a2c87e3-d772-4312-92e7-3528671e7b7b');\n",
              "          const dataTable =\n",
              "            await google.colab.kernel.invokeFunction('convertToInteractive',\n",
              "                                                     [key], {});\n",
              "          if (!dataTable) return;\n",
              "\n",
              "          const docLinkHtml = 'Like what you see? Visit the ' +\n",
              "            '<a target=\"_blank\" href=https://colab.research.google.com/notebooks/data_table.ipynb>data table notebook</a>'\n",
              "            + ' to learn more about interactive tables.';\n",
              "          element.innerHTML = '';\n",
              "          dataTable['output_type'] = 'display_data';\n",
              "          await google.colab.output.renderOutput(dataTable, element);\n",
              "          const docLink = document.createElement('div');\n",
              "          docLink.innerHTML = docLinkHtml;\n",
              "          element.appendChild(docLink);\n",
              "        }\n",
              "      </script>\n",
              "    </div>\n",
              "  </div>\n",
              "  "
            ]
          },
          "metadata": {},
          "execution_count": 34
        }
      ]
    },
    {
      "cell_type": "code",
      "source": [
        "reviews = df[['Text', 'Score']]\n",
        "reviews = reviews.drop_duplicates(subset='Text', keep='first')\n",
        "reviews.dropna()\n",
        "\n",
        "import re\n",
        "import string\n",
        "\n",
        "def process_text(text):\n",
        "    text = text.lower()\n",
        "    text = re.sub('[^a-zA-Z]', ' ', text)\n",
        "    text = re.sub(r'\\s+', ' ', text)\n",
        "    return text\n",
        "\n",
        "reviews['Text'] = reviews['Text'].apply(process_text)\n",
        "\n",
        "\n",
        "from nltk.tokenize import word_tokenize\n",
        "\n",
        "reviews['Text'] = reviews['Text'].apply(word_tokenize)\n",
        "\n",
        "from nltk.corpus import stopwords\n",
        "def process_stopwords(text):\n",
        "    return [word for word in text if not word in set(stopwords.words('english'))]\n",
        "\n",
        "reviews['Text'] = reviews['Text'].apply(process_stopwords)\n"
      ],
      "metadata": {
        "id": "EC5SkWFO2aLO"
      },
      "execution_count": 35,
      "outputs": []
    },
    {
      "cell_type": "code",
      "source": [
        "X = reviews['Text']\n",
        "y = reviews['Score']\n",
        "import sklearn\n",
        "from sklearn.model_selection import train_test_split\n",
        "X_train, X_test, y_train, y_test = train_test_split(X, y, test_size = 0.3, random_state = 42)\n",
        "\n",
        "X_train_flat = []\n",
        "for sublist in X_train:\n",
        "    sentence = ' '.join(sublist)\n",
        "    X_train_flat.append(sentence)\n",
        "\n",
        "X_test_flat = []\n",
        "for sublist in X_test:\n",
        "    sentence = ' '.join(sublist)\n",
        "    X_test_flat.append(sentence)\n",
        "from sklearn.feature_extraction.text import CountVectorizer\n",
        "vectorizer = CountVectorizer(max_features = 1500)\n",
        "X_train = vectorizer.fit_transform(X_train_flat)\n",
        "X_test = vectorizer.transform(X_test_flat)"
      ],
      "metadata": {
        "id": "7zPBvbca73GM"
      },
      "execution_count": 36,
      "outputs": []
    },
    {
      "cell_type": "code",
      "source": [
        "from sklearn import linear_model\n",
        "\n",
        "classifier = linear_model.LogisticRegression()\n",
        "classifier.fit(X_train, y_train)\n",
        "\n",
        "# Predicting the Test set results\n",
        "y_pred = classifier.predict(X_test)\n",
        "\n",
        "# Making the Confusion Matrix\n",
        "from sklearn.metrics import confusion_matrix\n",
        "cm = confusion_matrix(y_test, y_pred)\n",
        "print (\"Confusion Matrix:\\n\",cm)\n",
        "\n",
        "# Accuracy, Precision and Recall\n",
        "from sklearn.metrics import accuracy_score\n",
        "from sklearn.metrics import f1_score\n",
        "from sklearn.metrics import recall_score\n",
        "from sklearn.metrics import precision_score\n",
        "score1 = accuracy_score(y_test,y_pred)\n",
        "score2 = f1_score(y_test,y_pred, average = None)\n",
        "score3= recall_score(y_test,y_pred, average = None)\n",
        "score4 = precision_score(y_test,y_pred, average=None)\n",
        "score1_baseline = accuracy_score(y_test,[5 for _ in range(len(y_test))])\n",
        "score2_baseline = f1_score(y_test,[5 for _ in range(len(y_test))], average = None)\n",
        "score3_baseline= recall_score(y_test,[5 for _ in range(len(y_test))], average = None)\n",
        "score4_baseline = precision_score(y_test,[5 for _ in range(len(y_test))], average=None)\n",
        "print(score1, score2)\n",
        "print(score1_baseline, score2_baseline)"
      ],
      "metadata": {
        "id": "YI2vo_Cf51-p",
        "colab": {
          "base_uri": "https://localhost:8080/"
        },
        "outputId": "5723a18f-d2bd-45b8-9b62-c53757790ee2"
      },
      "execution_count": 37,
      "outputs": [
        {
          "output_type": "stream",
          "name": "stdout",
          "text": [
            "Confusion Matrix:\n",
            " [[  5   2   3   3  14]\n",
            " [  4   0   0   3  14]\n",
            " [  0   0   3   1  19]\n",
            " [  2   0   2   5  26]\n",
            " [  3   1   1  21 168]]\n",
            "0.6033333333333334 [0.24390244 0.         0.1875     0.14705882 0.77241379]\n",
            "0.6466666666666666 [0.        0.        0.        0.        0.7854251]\n"
          ]
        },
        {
          "output_type": "stream",
          "name": "stderr",
          "text": [
            "/usr/local/lib/python3.9/dist-packages/sklearn/metrics/_classification.py:1344: UndefinedMetricWarning: Precision is ill-defined and being set to 0.0 in labels with no predicted samples. Use `zero_division` parameter to control this behavior.\n",
            "  _warn_prf(average, modifier, msg_start, len(result))\n"
          ]
        }
      ]
    },
    {
      "cell_type": "code",
      "source": [
        "dataset2 = pd.read_csv('https://raw.githubusercontent.com/AaruuC/SentimentAnalysis/main/womens_clothing.csv', header=0)\n",
        "dataset2.head()"
      ],
      "metadata": {
        "colab": {
          "base_uri": "https://localhost:8080/",
          "height": 302
        },
        "id": "uw71RqFTNvJJ",
        "outputId": "2e87e5dc-502b-4588-de6b-d8cf1b39f51d"
      },
      "execution_count": 38,
      "outputs": [
        {
          "output_type": "execute_result",
          "data": {
            "text/plain": [
              "   Unnamed: 0  Clothing ID  Age                    Title  \\\n",
              "0           0          767   33                      NaN   \n",
              "1           1         1080   34                      NaN   \n",
              "2           2         1077   60  Some major design flaws   \n",
              "3           3         1049   50         My favorite buy!   \n",
              "4           4          847   47         Flattering shirt   \n",
              "\n",
              "                                         Review Text  Rating  Recommended IND  \\\n",
              "0  Absolutely wonderful - silky and sexy and comf...       4                1   \n",
              "1  Love this dress!  it's sooo pretty.  i happene...       5                1   \n",
              "2  I had such high hopes for this dress and reall...       3                0   \n",
              "3  I love, love, love this jumpsuit. it's fun, fl...       5                1   \n",
              "4  This shirt is very flattering to all due to th...       5                1   \n",
              "\n",
              "   Positive Feedback Count   Division Name Department Name Class Name  \n",
              "0                        0       Initmates        Intimate  Intimates  \n",
              "1                        4         General         Dresses    Dresses  \n",
              "2                        0         General         Dresses    Dresses  \n",
              "3                        0  General Petite         Bottoms      Pants  \n",
              "4                        6         General            Tops    Blouses  "
            ],
            "text/html": [
              "\n",
              "  <div id=\"df-35c3fd6f-723d-46d1-b339-354bf89342ef\">\n",
              "    <div class=\"colab-df-container\">\n",
              "      <div>\n",
              "<style scoped>\n",
              "    .dataframe tbody tr th:only-of-type {\n",
              "        vertical-align: middle;\n",
              "    }\n",
              "\n",
              "    .dataframe tbody tr th {\n",
              "        vertical-align: top;\n",
              "    }\n",
              "\n",
              "    .dataframe thead th {\n",
              "        text-align: right;\n",
              "    }\n",
              "</style>\n",
              "<table border=\"1\" class=\"dataframe\">\n",
              "  <thead>\n",
              "    <tr style=\"text-align: right;\">\n",
              "      <th></th>\n",
              "      <th>Unnamed: 0</th>\n",
              "      <th>Clothing ID</th>\n",
              "      <th>Age</th>\n",
              "      <th>Title</th>\n",
              "      <th>Review Text</th>\n",
              "      <th>Rating</th>\n",
              "      <th>Recommended IND</th>\n",
              "      <th>Positive Feedback Count</th>\n",
              "      <th>Division Name</th>\n",
              "      <th>Department Name</th>\n",
              "      <th>Class Name</th>\n",
              "    </tr>\n",
              "  </thead>\n",
              "  <tbody>\n",
              "    <tr>\n",
              "      <th>0</th>\n",
              "      <td>0</td>\n",
              "      <td>767</td>\n",
              "      <td>33</td>\n",
              "      <td>NaN</td>\n",
              "      <td>Absolutely wonderful - silky and sexy and comf...</td>\n",
              "      <td>4</td>\n",
              "      <td>1</td>\n",
              "      <td>0</td>\n",
              "      <td>Initmates</td>\n",
              "      <td>Intimate</td>\n",
              "      <td>Intimates</td>\n",
              "    </tr>\n",
              "    <tr>\n",
              "      <th>1</th>\n",
              "      <td>1</td>\n",
              "      <td>1080</td>\n",
              "      <td>34</td>\n",
              "      <td>NaN</td>\n",
              "      <td>Love this dress!  it's sooo pretty.  i happene...</td>\n",
              "      <td>5</td>\n",
              "      <td>1</td>\n",
              "      <td>4</td>\n",
              "      <td>General</td>\n",
              "      <td>Dresses</td>\n",
              "      <td>Dresses</td>\n",
              "    </tr>\n",
              "    <tr>\n",
              "      <th>2</th>\n",
              "      <td>2</td>\n",
              "      <td>1077</td>\n",
              "      <td>60</td>\n",
              "      <td>Some major design flaws</td>\n",
              "      <td>I had such high hopes for this dress and reall...</td>\n",
              "      <td>3</td>\n",
              "      <td>0</td>\n",
              "      <td>0</td>\n",
              "      <td>General</td>\n",
              "      <td>Dresses</td>\n",
              "      <td>Dresses</td>\n",
              "    </tr>\n",
              "    <tr>\n",
              "      <th>3</th>\n",
              "      <td>3</td>\n",
              "      <td>1049</td>\n",
              "      <td>50</td>\n",
              "      <td>My favorite buy!</td>\n",
              "      <td>I love, love, love this jumpsuit. it's fun, fl...</td>\n",
              "      <td>5</td>\n",
              "      <td>1</td>\n",
              "      <td>0</td>\n",
              "      <td>General Petite</td>\n",
              "      <td>Bottoms</td>\n",
              "      <td>Pants</td>\n",
              "    </tr>\n",
              "    <tr>\n",
              "      <th>4</th>\n",
              "      <td>4</td>\n",
              "      <td>847</td>\n",
              "      <td>47</td>\n",
              "      <td>Flattering shirt</td>\n",
              "      <td>This shirt is very flattering to all due to th...</td>\n",
              "      <td>5</td>\n",
              "      <td>1</td>\n",
              "      <td>6</td>\n",
              "      <td>General</td>\n",
              "      <td>Tops</td>\n",
              "      <td>Blouses</td>\n",
              "    </tr>\n",
              "  </tbody>\n",
              "</table>\n",
              "</div>\n",
              "      <button class=\"colab-df-convert\" onclick=\"convertToInteractive('df-35c3fd6f-723d-46d1-b339-354bf89342ef')\"\n",
              "              title=\"Convert this dataframe to an interactive table.\"\n",
              "              style=\"display:none;\">\n",
              "        \n",
              "  <svg xmlns=\"http://www.w3.org/2000/svg\" height=\"24px\"viewBox=\"0 0 24 24\"\n",
              "       width=\"24px\">\n",
              "    <path d=\"M0 0h24v24H0V0z\" fill=\"none\"/>\n",
              "    <path d=\"M18.56 5.44l.94 2.06.94-2.06 2.06-.94-2.06-.94-.94-2.06-.94 2.06-2.06.94zm-11 1L8.5 8.5l.94-2.06 2.06-.94-2.06-.94L8.5 2.5l-.94 2.06-2.06.94zm10 10l.94 2.06.94-2.06 2.06-.94-2.06-.94-.94-2.06-.94 2.06-2.06.94z\"/><path d=\"M17.41 7.96l-1.37-1.37c-.4-.4-.92-.59-1.43-.59-.52 0-1.04.2-1.43.59L10.3 9.45l-7.72 7.72c-.78.78-.78 2.05 0 2.83L4 21.41c.39.39.9.59 1.41.59.51 0 1.02-.2 1.41-.59l7.78-7.78 2.81-2.81c.8-.78.8-2.07 0-2.86zM5.41 20L4 18.59l7.72-7.72 1.47 1.35L5.41 20z\"/>\n",
              "  </svg>\n",
              "      </button>\n",
              "      \n",
              "  <style>\n",
              "    .colab-df-container {\n",
              "      display:flex;\n",
              "      flex-wrap:wrap;\n",
              "      gap: 12px;\n",
              "    }\n",
              "\n",
              "    .colab-df-convert {\n",
              "      background-color: #E8F0FE;\n",
              "      border: none;\n",
              "      border-radius: 50%;\n",
              "      cursor: pointer;\n",
              "      display: none;\n",
              "      fill: #1967D2;\n",
              "      height: 32px;\n",
              "      padding: 0 0 0 0;\n",
              "      width: 32px;\n",
              "    }\n",
              "\n",
              "    .colab-df-convert:hover {\n",
              "      background-color: #E2EBFA;\n",
              "      box-shadow: 0px 1px 2px rgba(60, 64, 67, 0.3), 0px 1px 3px 1px rgba(60, 64, 67, 0.15);\n",
              "      fill: #174EA6;\n",
              "    }\n",
              "\n",
              "    [theme=dark] .colab-df-convert {\n",
              "      background-color: #3B4455;\n",
              "      fill: #D2E3FC;\n",
              "    }\n",
              "\n",
              "    [theme=dark] .colab-df-convert:hover {\n",
              "      background-color: #434B5C;\n",
              "      box-shadow: 0px 1px 3px 1px rgba(0, 0, 0, 0.15);\n",
              "      filter: drop-shadow(0px 1px 2px rgba(0, 0, 0, 0.3));\n",
              "      fill: #FFFFFF;\n",
              "    }\n",
              "  </style>\n",
              "\n",
              "      <script>\n",
              "        const buttonEl =\n",
              "          document.querySelector('#df-35c3fd6f-723d-46d1-b339-354bf89342ef button.colab-df-convert');\n",
              "        buttonEl.style.display =\n",
              "          google.colab.kernel.accessAllowed ? 'block' : 'none';\n",
              "\n",
              "        async function convertToInteractive(key) {\n",
              "          const element = document.querySelector('#df-35c3fd6f-723d-46d1-b339-354bf89342ef');\n",
              "          const dataTable =\n",
              "            await google.colab.kernel.invokeFunction('convertToInteractive',\n",
              "                                                     [key], {});\n",
              "          if (!dataTable) return;\n",
              "\n",
              "          const docLinkHtml = 'Like what you see? Visit the ' +\n",
              "            '<a target=\"_blank\" href=https://colab.research.google.com/notebooks/data_table.ipynb>data table notebook</a>'\n",
              "            + ' to learn more about interactive tables.';\n",
              "          element.innerHTML = '';\n",
              "          dataTable['output_type'] = 'display_data';\n",
              "          await google.colab.output.renderOutput(dataTable, element);\n",
              "          const docLink = document.createElement('div');\n",
              "          docLink.innerHTML = docLinkHtml;\n",
              "          element.appendChild(docLink);\n",
              "        }\n",
              "      </script>\n",
              "    </div>\n",
              "  </div>\n",
              "  "
            ]
          },
          "metadata": {},
          "execution_count": 38
        }
      ]
    },
    {
      "cell_type": "code",
      "source": [
        "reviews2 = dataset2[['Review Text', 'Rating']]\n",
        "reviews2 = reviews2.drop_duplicates(subset='Review Text', keep='first')\n",
        "reviews2.dropna()\n",
        "\n",
        "import re\n",
        "import string\n",
        "\n",
        "def process_text(text):\n",
        "    text = text.lower()\n",
        "    text = re.sub('[^a-zA-Z]', ' ', text)\n",
        "    text = re.sub(r'\\s+', ' ', text)\n",
        "    return text\n",
        "reviews2['Review Text'] = reviews2['Review Text'].astype(str)\n",
        "reviews2['Review Text'] = reviews2['Review Text'].apply(process_text)\n",
        "\n",
        "\n",
        "from nltk.tokenize import word_tokenize\n",
        "\n",
        "reviews2['Review Text'] = reviews2['Review Text'].apply(word_tokenize)\n",
        "\n",
        "from nltk.corpus import stopwords\n",
        "def process_stopwords(text):\n",
        "    return [word for word in text if not word in set(stopwords.words('english'))]\n",
        "\n",
        "reviews2['Review Text'] = reviews2['Review Text'].apply(process_stopwords)"
      ],
      "metadata": {
        "id": "AEl53xdBOp7t"
      },
      "execution_count": 39,
      "outputs": []
    },
    {
      "cell_type": "code",
      "source": [
        "X_train = reviews['Text']\n",
        "y_train = reviews['Score']\n",
        "X_test = reviews2['Review Text']\n",
        "y_test = reviews2['Rating']\n",
        "\n",
        "X_train_flat = []\n",
        "for sublist in X_train:\n",
        "    sentence = ' '.join(sublist)\n",
        "    X_train_flat.append(sentence)\n",
        "\n",
        "X_test_flat = []\n",
        "for sublist in X_test:\n",
        "    sentence = ' '.join(sublist)\n",
        "    X_test_flat.append(sentence)\n",
        "\n",
        "from sklearn.feature_extraction.text import CountVectorizer\n",
        "vectorizer = CountVectorizer(max_features = 1500)\n",
        "X_train = vectorizer.fit_transform(X_train_flat)\n",
        "X_test = vectorizer.transform(X_test_flat)"
      ],
      "metadata": {
        "id": "lfZd5lbUN5vm"
      },
      "execution_count": 40,
      "outputs": []
    },
    {
      "cell_type": "code",
      "source": [
        "from sklearn import linear_model\n",
        "\n",
        "classifier = linear_model.LogisticRegression()\n",
        "classifier.fit(X_train, y_train)\n",
        "\n",
        "# Predicting the Test set results\n",
        "y_pred = classifier.predict(X_test)\n",
        "\n",
        "# Making the Confusion Matrix\n",
        "from sklearn.metrics import confusion_matrix\n",
        "cm = confusion_matrix(y_test, y_pred)\n",
        "print (\"Confusion Matrix:\\n\",cm)\n",
        "\n",
        "# Accuracy, Precision and Recall\n",
        "from sklearn.metrics import accuracy_score\n",
        "from sklearn.metrics import f1_score\n",
        "from sklearn.metrics import recall_score\n",
        "from sklearn.metrics import precision_score\n",
        "score1 = accuracy_score(y_test,y_pred)\n",
        "score2 = f1_score(y_test,y_pred, average = None)\n",
        "score3= recall_score(y_test,y_pred, average = None)\n",
        "score4 = precision_score(y_test,y_pred, average=None)\n",
        "score1_baseline = accuracy_score(y_test,[5 for _ in range(len(y_test))])\n",
        "score2_baseline = f1_score(y_test,[5 for _ in range(len(y_test))], average = None)\n",
        "score3_baseline= recall_score(y_test,[5 for _ in range(len(y_test))], average = None)\n",
        "score4_baseline = precision_score(y_test,[5 for _ in range(len(y_test))], average=None)\n",
        "print(score1, score2, score3, score4)\n",
        "print(score1_baseline, score2_baseline, score3_baseline, score4_baseline)"
      ],
      "metadata": {
        "id": "7ekZtSg-OLGG",
        "colab": {
          "base_uri": "https://localhost:8080/"
        },
        "outputId": "5c820adf-12a1-40f0-9275-80f735e6db67"
      },
      "execution_count": 41,
      "outputs": [
        {
          "output_type": "stream",
          "name": "stdout",
          "text": [
            "Confusion Matrix:\n",
            " [[  111    31    86   111   482]\n",
            " [  146    59   161   287   895]\n",
            " [  177   102   325   542  1677]\n",
            " [  121   109   318   998  3362]\n",
            " [  135    98   320  1337 10645]]\n",
            "0.5362491716368456 [0.14692257 0.06060606 0.16117034 0.24392032 0.71935397] [0.13520097 0.0381137  0.11512575 0.20334148 0.84922218] [0.16086957 0.14786967 0.26859504 0.30473282 0.62393764]\n",
            "0.5537883808261542 [0.         0.         0.         0.         0.71282343] [0. 0. 0. 0. 1.] [0.         0.         0.         0.         0.55378838]\n"
          ]
        },
        {
          "output_type": "stream",
          "name": "stderr",
          "text": [
            "/usr/local/lib/python3.9/dist-packages/sklearn/metrics/_classification.py:1344: UndefinedMetricWarning: Precision is ill-defined and being set to 0.0 in labels with no predicted samples. Use `zero_division` parameter to control this behavior.\n",
            "  _warn_prf(average, modifier, msg_start, len(result))\n"
          ]
        }
      ]
    },
    {
      "cell_type": "code",
      "source": [
        "!pip install bert-tensorflow"
      ],
      "metadata": {
        "id": "Xwz29qfVXCSR",
        "colab": {
          "base_uri": "https://localhost:8080/"
        },
        "outputId": "03671184-a95d-4bfc-f2b3-7a8b71b40516"
      },
      "execution_count": 42,
      "outputs": [
        {
          "output_type": "stream",
          "name": "stdout",
          "text": [
            "Looking in indexes: https://pypi.org/simple, https://us-python.pkg.dev/colab-wheels/public/simple/\n",
            "Requirement already satisfied: bert-tensorflow in /usr/local/lib/python3.9/dist-packages (1.0.4)\n",
            "Requirement already satisfied: six in /usr/local/lib/python3.9/dist-packages (from bert-tensorflow) (1.16.0)\n"
          ]
        }
      ]
    },
    {
      "cell_type": "code",
      "source": [
        "from bert import tokenization\n",
        "import tensorflow as tf\n",
        "import tensorflow_hub as hub\n",
        "from keras.utils import to_categorical\n",
        "from sklearn import preprocessing\n",
        "from sklearn.model_selection import train_test_split"
      ],
      "metadata": {
        "id": "vKbp2X8qZBv4"
      },
      "execution_count": 43,
      "outputs": []
    },
    {
      "cell_type": "code",
      "source": [
        "reviews_bert = df[['Text', 'Score']]\n",
        "reviews_bert = reviews_bert.drop_duplicates(subset='Text', keep='first')\n",
        "reviews_bert.dropna()\n",
        "reviews_bert['Score'] = [1 if x >=3 else 0 for x in reviews_bert['Score']]\n",
        "train_data, test_data = train_test_split(reviews_bert)\n",
        "# train_data = np.asarray(train_data).astype(np.float32)\n",
        "\n",
        "shifted_reviews_bert = dataset2[['Review Text', 'Rating']]\n",
        "shifted_reviews_bert = shifted_reviews_bert.drop_duplicates(subset='Review Text', keep='first')\n",
        "shifted_reviews_bert.dropna()\n",
        "shifted_reviews_bert['Rating'] = [1 if x >=3 else 0 for x in shifted_reviews_bert['Rating']]\n"
      ],
      "metadata": {
        "id": "ZwSPboUWdIIF",
        "colab": {
          "base_uri": "https://localhost:8080/"
        },
        "outputId": "0bb82a2f-6ea0-40b1-8450-9d011bf594aa"
      },
      "execution_count": 44,
      "outputs": [
        {
          "output_type": "stream",
          "name": "stderr",
          "text": [
            "<ipython-input-44-d9a4f10bd9f2>:4: SettingWithCopyWarning: \n",
            "A value is trying to be set on a copy of a slice from a DataFrame.\n",
            "Try using .loc[row_indexer,col_indexer] = value instead\n",
            "\n",
            "See the caveats in the documentation: https://pandas.pydata.org/pandas-docs/stable/user_guide/indexing.html#returning-a-view-versus-a-copy\n",
            "  reviews_bert['Score'] = [1 if x >=3 else 0 for x in reviews_bert['Score']]\n"
          ]
        }
      ]
    },
    {
      "cell_type": "code",
      "source": [
        "!pip install transformers"
      ],
      "metadata": {
        "colab": {
          "base_uri": "https://localhost:8080/"
        },
        "id": "K3pU5L_fldDQ",
        "outputId": "2e44c068-69e8-4229-f9a4-948cb6c16674"
      },
      "execution_count": 45,
      "outputs": [
        {
          "output_type": "stream",
          "name": "stdout",
          "text": [
            "Looking in indexes: https://pypi.org/simple, https://us-python.pkg.dev/colab-wheels/public/simple/\n",
            "Requirement already satisfied: transformers in /usr/local/lib/python3.9/dist-packages (4.28.1)\n",
            "Requirement already satisfied: huggingface-hub<1.0,>=0.11.0 in /usr/local/lib/python3.9/dist-packages (from transformers) (0.14.1)\n",
            "Requirement already satisfied: tqdm>=4.27 in /usr/local/lib/python3.9/dist-packages (from transformers) (4.65.0)\n",
            "Requirement already satisfied: pyyaml>=5.1 in /usr/local/lib/python3.9/dist-packages (from transformers) (6.0)\n",
            "Requirement already satisfied: regex!=2019.12.17 in /usr/local/lib/python3.9/dist-packages (from transformers) (2022.10.31)\n",
            "Requirement already satisfied: filelock in /usr/local/lib/python3.9/dist-packages (from transformers) (3.12.0)\n",
            "Requirement already satisfied: requests in /usr/local/lib/python3.9/dist-packages (from transformers) (2.27.1)\n",
            "Requirement already satisfied: tokenizers!=0.11.3,<0.14,>=0.11.1 in /usr/local/lib/python3.9/dist-packages (from transformers) (0.13.3)\n",
            "Requirement already satisfied: packaging>=20.0 in /usr/local/lib/python3.9/dist-packages (from transformers) (23.1)\n",
            "Requirement already satisfied: numpy>=1.17 in /usr/local/lib/python3.9/dist-packages (from transformers) (1.22.4)\n",
            "Requirement already satisfied: fsspec in /usr/local/lib/python3.9/dist-packages (from huggingface-hub<1.0,>=0.11.0->transformers) (2023.4.0)\n",
            "Requirement already satisfied: typing-extensions>=3.7.4.3 in /usr/local/lib/python3.9/dist-packages (from huggingface-hub<1.0,>=0.11.0->transformers) (4.5.0)\n",
            "Requirement already satisfied: certifi>=2017.4.17 in /usr/local/lib/python3.9/dist-packages (from requests->transformers) (2022.12.7)\n",
            "Requirement already satisfied: idna<4,>=2.5 in /usr/local/lib/python3.9/dist-packages (from requests->transformers) (3.4)\n",
            "Requirement already satisfied: urllib3<1.27,>=1.21.1 in /usr/local/lib/python3.9/dist-packages (from requests->transformers) (1.26.15)\n",
            "Requirement already satisfied: charset-normalizer~=2.0.0 in /usr/local/lib/python3.9/dist-packages (from requests->transformers) (2.0.12)\n"
          ]
        }
      ]
    },
    {
      "cell_type": "code",
      "source": [
        "import torch\n",
        "from transformers import BertTokenizer, BertForSequenceClassification\n",
        "from sklearn.model_selection import train_test_split"
      ],
      "metadata": {
        "id": "9DKdzb7ulXP3"
      },
      "execution_count": 46,
      "outputs": []
    },
    {
      "cell_type": "code",
      "source": [
        "tokenizer = BertTokenizer.from_pretrained('bert-base-uncased', do_lower_case=True)\n",
        "\n",
        "train_encodings = tokenizer(list(train_data['Text']), truncation=True, padding=True)\n",
        "test_encodings = tokenizer(list(test_data['Text']), truncation=True, padding=True)\n",
        "test_shifted_encodings = tokenizer(list(shifted_reviews_bert['Review Text'].astype(str)), truncation=True, padding=True)\n",
        "\n",
        "train_labels = torch.tensor(list(train_data['Score']))\n",
        "test_labels = torch.tensor(list(test_data['Score']))\n",
        "test_shifted_labels = torch.tensor(list(shifted_reviews_bert['Rating']))\n",
        "\n",
        "train_dataset = torch.utils.data.TensorDataset(torch.tensor(train_encodings['input_ids']), torch.tensor(train_encodings['attention_mask']), train_labels)\n",
        "test_dataset = torch.utils.data.TensorDataset(torch.tensor(test_encodings['input_ids']), torch.tensor(test_encodings['attention_mask']), test_labels)\n",
        "test_shifted_dataset = torch.utils.data.TensorDataset(torch.tensor(test_shifted_encodings['input_ids']), torch.tensor(test_shifted_encodings['attention_mask']), test_shifted_labels)"
      ],
      "metadata": {
        "id": "Ox9oD9UylkJF"
      },
      "execution_count": 47,
      "outputs": []
    },
    {
      "cell_type": "code",
      "source": [
        "model = BertForSequenceClassification.from_pretrained('bert-base-uncased', num_labels=2)\n",
        "\n",
        "device = torch.device('cuda') if torch.cuda.is_available() else torch.device('cpu')\n",
        "model.to(device)\n",
        "\n",
        "optimizer = torch.optim.Adam(model.parameters(), lr=1e-5)\n",
        "criterion = torch.nn.CrossEntropyLoss()\n",
        "train_loader = torch.utils.data.DataLoader(train_dataset, batch_size=16, shuffle=True)\n",
        "\n",
        "for epoch in range(3):\n",
        "    running_loss = 0.0\n",
        "    for batch in train_loader:\n",
        "        input_ids = batch[0].to(device)\n",
        "        attention_mask = batch[1].to(device)\n",
        "        labels = batch[2].to(device)\n",
        "\n",
        "        optimizer.zero_grad()\n",
        "        logits = model(input_ids, attention_mask=attention_mask)[0]\n",
        "        loss = criterion(logits, labels)\n",
        "        loss.backward()\n",
        "        optimizer.step()\n",
        "\n",
        "        running_loss += loss.item()\n",
        "        \n",
        "    epoch_loss = running_loss / len(train_loader)\n",
        "    print('Epoch {}/{}: loss = {:.4f}'.format(epoch+1, 3, epoch_loss))"
      ],
      "metadata": {
        "colab": {
          "base_uri": "https://localhost:8080/"
        },
        "id": "6oVdBVIjuWef",
        "outputId": "69119d41-a708-4838-e40e-1f9a3f137ad7"
      },
      "execution_count": 48,
      "outputs": [
        {
          "output_type": "stream",
          "name": "stderr",
          "text": [
            "Some weights of the model checkpoint at bert-base-uncased were not used when initializing BertForSequenceClassification: ['cls.predictions.transform.dense.bias', 'cls.predictions.transform.LayerNorm.bias', 'cls.predictions.transform.dense.weight', 'cls.predictions.decoder.weight', 'cls.predictions.bias', 'cls.seq_relationship.bias', 'cls.seq_relationship.weight', 'cls.predictions.transform.LayerNorm.weight']\n",
            "- This IS expected if you are initializing BertForSequenceClassification from the checkpoint of a model trained on another task or with another architecture (e.g. initializing a BertForSequenceClassification model from a BertForPreTraining model).\n",
            "- This IS NOT expected if you are initializing BertForSequenceClassification from the checkpoint of a model that you expect to be exactly identical (initializing a BertForSequenceClassification model from a BertForSequenceClassification model).\n",
            "Some weights of BertForSequenceClassification were not initialized from the model checkpoint at bert-base-uncased and are newly initialized: ['classifier.bias', 'classifier.weight']\n",
            "You should probably TRAIN this model on a down-stream task to be able to use it for predictions and inference.\n"
          ]
        },
        {
          "output_type": "stream",
          "name": "stdout",
          "text": [
            "Epoch 1/3: loss = 0.4572\n",
            "Epoch 2/3: loss = 0.3102\n",
            "Epoch 3/3: loss = 0.1080\n"
          ]
        }
      ]
    },
    {
      "cell_type": "code",
      "source": [
        "import sklearn.metrics\n",
        "\n",
        "model.eval()\n",
        "\n",
        "test_loader = torch.utils.data.DataLoader(test_dataset, batch_size=16, shuffle=False)\n",
        "\n",
        "total_loss = 0\n",
        "num_batches = 0\n",
        "total_preds = []\n",
        "total_labels = []\n",
        "\n",
        "with torch.no_grad():\n",
        "    for batch in test_loader:\n",
        "        input_ids, attention_mask, labels = tuple(t.to(device) for t in batch)\n",
        "\n",
        "        logits = model(input_ids, attention_mask=attention_mask)[0]\n",
        "        loss = torch.nn.functional.cross_entropy(logits, labels)\n",
        "\n",
        "        total_loss += loss.item()\n",
        "        num_batches += 1\n",
        "\n",
        "        preds = torch.argmax(logits, dim=1).tolist()\n",
        "        total_preds.extend(preds)\n",
        "        total_labels.extend(labels.tolist())\n",
        "\n",
        "test_accuracy = sum([1 if total_preds[i] == total_labels[i] else 0 for i in range(len(total_preds))]) / len(total_preds)\n",
        "test_f1 = sklearn.metrics.f1_score(total_labels, total_preds)\n",
        "test_loss = total_loss / num_batches\n",
        "\n",
        "\n",
        "print('Test Loss: {:.4f}'.format(test_loss))\n",
        "print('Test Accuracy: {:.4f}'.format(test_accuracy))\n",
        "print('Test F1 Score: {:.4f}'.format(test_f1))"
      ],
      "metadata": {
        "colab": {
          "base_uri": "https://localhost:8080/"
        },
        "id": "WiVfwS2iysYA",
        "outputId": "d23fedb2-8a99-4660-b164-3961ad17a596"
      },
      "execution_count": 49,
      "outputs": [
        {
          "output_type": "stream",
          "name": "stdout",
          "text": [
            "Test Loss: 0.3022\n",
            "Test Accuracy: 0.9000\n",
            "Test F1 Score: 0.9428\n"
          ]
        }
      ]
    },
    {
      "cell_type": "code",
      "source": [
        "import sklearn.metrics\n",
        "\n",
        "model.eval()\n",
        "\n",
        "test_loader = torch.utils.data.DataLoader(test_shifted_dataset, batch_size=16, shuffle=False)\n",
        "\n",
        "total_loss = 0\n",
        "num_batches = 0\n",
        "total_preds = []\n",
        "total_labels = []\n",
        "\n",
        "with torch.no_grad():\n",
        "    for batch in test_loader:\n",
        "        input_ids, attention_mask, labels = tuple(t.to(device) for t in batch)\n",
        "\n",
        "        logits = model(input_ids, attention_mask=attention_mask)[0]\n",
        "        loss = torch.nn.functional.cross_entropy(logits, labels)\n",
        "\n",
        "        total_loss += loss.item()\n",
        "        num_batches += 1\n",
        "\n",
        "        preds = torch.argmax(logits, dim=1).tolist()\n",
        "        total_preds.extend(preds)\n",
        "        total_labels.extend(labels.tolist())\n",
        "\n",
        "test_accuracy = sum([1 if total_preds[i] == total_labels[i] else 0 for i in range(len(total_preds))]) / len(total_preds)\n",
        "test_f1 = sklearn.metrics.f1_score(total_labels, total_preds)\n",
        "test_loss = total_loss / num_batches\n",
        "\n",
        "\n",
        "print('Test Loss: {:.4f}'.format(test_loss))\n",
        "print('Test Accuracy: {:.4f}'.format(test_accuracy))\n",
        "print('Test F1 Score: {:.4f}'.format(test_f1))"
      ],
      "metadata": {
        "colab": {
          "base_uri": "https://localhost:8080/"
        },
        "id": "FBWyBzq1E4qL",
        "outputId": "807c7c02-d012-4b6a-bc46-3203014cd600"
      },
      "execution_count": 50,
      "outputs": [
        {
          "output_type": "stream",
          "name": "stdout",
          "text": [
            "Test Loss: 0.2648\n",
            "Test Accuracy: 0.9086\n",
            "Test F1 Score: 0.9503\n"
          ]
        }
      ]
    },
    {
      "cell_type": "code",
      "source": [
        "import pandas as pd\n",
        "import numpy as np\n",
        "import tensorflow as tf\n",
        "from keras.preprocessing.text import Tokenizer\n",
        "from tensorflow.keras.preprocessing.sequence import pad_sequences\n",
        "from keras.models import Sequential\n",
        "from keras.layers import Embedding, Bidirectional, LSTM, Dense, SimpleRNN\n",
        "import keras.backend as K\n",
        "from keras.callbacks import EarlyStopping"
      ],
      "metadata": {
        "id": "09wdSR4xQDIk"
      },
      "execution_count": 51,
      "outputs": []
    },
    {
      "cell_type": "code",
      "source": [
        "def recall_m(y_true, y_pred):\n",
        "    true_positives = K.sum(K.round(K.clip(y_true * y_pred, 0, 1)))\n",
        "    possible_positives = K.sum(K.round(K.clip(y_true, 0, 1)))\n",
        "    recall = true_positives / (possible_positives + K.epsilon())\n",
        "    return recall\n",
        "\n",
        "def precision_m(y_true, y_pred):\n",
        "    true_positives = K.sum(K.round(K.clip(y_true * y_pred, 0, 1)))\n",
        "    predicted_positives = K.sum(K.round(K.clip(y_pred, 0, 1)))\n",
        "    precision = true_positives / (predicted_positives + K.epsilon())\n",
        "    return precision\n",
        "\n",
        "def f1_m(y_true, y_pred):\n",
        "    precision = precision_m(y_true, y_pred)\n",
        "    recall = recall_m(y_true, y_pred)\n",
        "    return 2*((precision*recall)/(precision+recall+K.epsilon()))"
      ],
      "metadata": {
        "id": "zTJlu93hUzvG"
      },
      "execution_count": 52,
      "outputs": []
    },
    {
      "cell_type": "code",
      "source": [
        "tf.random.set_seed(42)\n",
        "\n",
        "df = pd.read_csv('Reviews.csv')\n",
        "df = df.head(1000)\n",
        "reviews = df[['Text', 'Score']]\n",
        "reviews['Score'] = reviews['Score'].map({1: -1, 2: -1, 3: 0, 4: 1, 5: 1})\n",
        "\n",
        "tokenizer = Tokenizer(num_words=5000)\n",
        "tokenizer.fit_on_texts(reviews['Text'])\n",
        "X = tokenizer.texts_to_sequences(reviews['Text'])\n",
        "X = pad_sequences(X, maxlen=64, padding='post', truncating='post')\n",
        "\n",
        "model = Sequential()\n",
        "model.add(Embedding(5000, 64, input_length=64))\n",
        "model.add(SimpleRNN(100))\n",
        "model.add(Dense(1, activation='sigmoid'))\n",
        "\n",
        "learning_rate = 0.01\n",
        "batch_size = 16\n",
        "epochs = 20\n",
        "\n",
        "optimizer = tf.keras.optimizers.Adam(learning_rate=learning_rate)\n",
        "model.compile(loss='binary_crossentropy', optimizer=optimizer, metrics=[f1_m])\n",
        "\n",
        "early_stop = EarlyStopping(monitor='val_loss', patience=3)\n",
        "history = model.fit(X, reviews['Score'], batch_size=batch_size, epochs=epochs, validation_split=0.2, callbacks=[early_stop])\n",
        "\n",
        "learning_rate = 0.001\n",
        "epochs = 20\n",
        "optimizer = tf.keras.optimizers.Adam(learning_rate=learning_rate)\n",
        "model.compile(loss='binary_crossentropy', optimizer=optimizer, metrics=[f1_m])\n",
        "history = model.fit(X, reviews['Score'], batch_size=batch_size, epochs=epochs, validation_split=0.2)\n",
        "\n",
        "print(history.history)"
      ],
      "metadata": {
        "colab": {
          "base_uri": "https://localhost:8080/"
        },
        "id": "9drznU3W1uPu",
        "outputId": "52086e73-3514-4801-f606-2d7f1458ccb6"
      },
      "execution_count": 53,
      "outputs": [
        {
          "output_type": "stream",
          "name": "stderr",
          "text": [
            "<ipython-input-53-c1701bdafd0f>:6: SettingWithCopyWarning: \n",
            "A value is trying to be set on a copy of a slice from a DataFrame.\n",
            "Try using .loc[row_indexer,col_indexer] = value instead\n",
            "\n",
            "See the caveats in the documentation: https://pandas.pydata.org/pandas-docs/stable/user_guide/indexing.html#returning-a-view-versus-a-copy\n",
            "  reviews['Score'] = reviews['Score'].map({1: -1, 2: -1, 3: 0, 4: 1, 5: 1})\n"
          ]
        },
        {
          "output_type": "stream",
          "name": "stdout",
          "text": [
            "Epoch 1/20\n",
            "50/50 [==============================] - 12s 207ms/step - loss: 0.7204 - f1_m: 0.6954 - val_loss: 0.7148 - val_f1_m: 0.3218\n",
            "Epoch 2/20\n",
            "50/50 [==============================] - 6s 127ms/step - loss: 0.7007 - f1_m: 0.7311 - val_loss: 0.6856 - val_f1_m: 0.8129\n",
            "Epoch 3/20\n",
            "50/50 [==============================] - 7s 140ms/step - loss: 0.6846 - f1_m: 0.7223 - val_loss: 0.7767 - val_f1_m: 0.1970\n",
            "Epoch 4/20\n",
            "50/50 [==============================] - 4s 78ms/step - loss: 0.6402 - f1_m: 0.7816 - val_loss: 0.6380 - val_f1_m: 0.7839\n",
            "Epoch 5/20\n",
            "50/50 [==============================] - 4s 87ms/step - loss: 0.5520 - f1_m: 0.8636 - val_loss: 0.6998 - val_f1_m: 0.8191\n",
            "Epoch 6/20\n",
            "50/50 [==============================] - 4s 90ms/step - loss: 0.4588 - f1_m: 0.8300 - val_loss: 0.8224 - val_f1_m: 0.8083\n",
            "Epoch 7/20\n",
            "50/50 [==============================] - 4s 82ms/step - loss: 0.3502 - f1_m: 0.8154 - val_loss: 0.8480 - val_f1_m: 0.5581\n",
            "Epoch 1/20\n",
            "50/50 [==============================] - 11s 187ms/step - loss: 0.0811 - f1_m: 0.8641 - val_loss: 0.9247 - val_f1_m: 0.7886\n",
            "Epoch 2/20\n",
            "50/50 [==============================] - 7s 141ms/step - loss: -0.0599 - f1_m: 0.8996 - val_loss: 0.9895 - val_f1_m: 0.7844\n",
            "Epoch 3/20\n",
            "50/50 [==============================] - 5s 94ms/step - loss: -0.1783 - f1_m: 0.8440 - val_loss: 1.3813 - val_f1_m: 0.7682\n",
            "Epoch 4/20\n",
            "50/50 [==============================] - 6s 119ms/step - loss: -0.1251 - f1_m: 0.8902 - val_loss: 1.3331 - val_f1_m: 0.7637\n",
            "Epoch 5/20\n",
            "50/50 [==============================] - 4s 82ms/step - loss: -0.1505 - f1_m: 0.8774 - val_loss: 1.7028 - val_f1_m: 0.5579\n",
            "Epoch 6/20\n",
            "50/50 [==============================] - 3s 62ms/step - loss: -0.1346 - f1_m: 0.7785 - val_loss: 1.4048 - val_f1_m: 0.7607\n",
            "Epoch 7/20\n",
            "50/50 [==============================] - 3s 69ms/step - loss: -0.3611 - f1_m: 0.8869 - val_loss: 1.3489 - val_f1_m: 0.7720\n",
            "Epoch 8/20\n",
            "50/50 [==============================] - 5s 88ms/step - loss: -0.4034 - f1_m: 0.8583 - val_loss: 1.2738 - val_f1_m: 0.8081\n",
            "Epoch 9/20\n",
            "50/50 [==============================] - 3s 60ms/step - loss: -0.4887 - f1_m: 0.9116 - val_loss: 1.5737 - val_f1_m: 0.8166\n",
            "Epoch 10/20\n",
            "50/50 [==============================] - 3s 62ms/step - loss: -0.5583 - f1_m: 0.8413 - val_loss: 1.6617 - val_f1_m: 0.8100\n",
            "Epoch 11/20\n",
            "50/50 [==============================] - 3s 51ms/step - loss: -0.6123 - f1_m: 0.9139 - val_loss: 1.6346 - val_f1_m: 0.8002\n",
            "Epoch 12/20\n",
            "50/50 [==============================] - 4s 88ms/step - loss: -0.7211 - f1_m: 0.9100 - val_loss: 1.8796 - val_f1_m: 0.7940\n",
            "Epoch 13/20\n",
            "50/50 [==============================] - 3s 66ms/step - loss: -0.8419 - f1_m: 0.8946 - val_loss: 1.6489 - val_f1_m: 0.8012\n",
            "Epoch 14/20\n",
            "50/50 [==============================] - 3s 56ms/step - loss: -0.9918 - f1_m: 0.9026 - val_loss: 2.1318 - val_f1_m: 0.7997\n",
            "Epoch 15/20\n",
            "50/50 [==============================] - 3s 54ms/step - loss: -0.8147 - f1_m: 0.7923 - val_loss: 1.5756 - val_f1_m: 0.2630\n",
            "Epoch 16/20\n",
            "50/50 [==============================] - 3s 69ms/step - loss: -0.5719 - f1_m: 0.6171 - val_loss: 1.4403 - val_f1_m: 0.4867\n",
            "Epoch 17/20\n",
            "50/50 [==============================] - 5s 90ms/step - loss: -0.7617 - f1_m: 0.7811 - val_loss: 1.4825 - val_f1_m: 0.6391\n",
            "Epoch 18/20\n",
            "50/50 [==============================] - 3s 59ms/step - loss: -0.9207 - f1_m: 0.8911 - val_loss: 1.5748 - val_f1_m: 0.8018\n",
            "Epoch 19/20\n",
            "50/50 [==============================] - 3s 56ms/step - loss: -1.0574 - f1_m: 0.8940 - val_loss: 1.6447 - val_f1_m: 0.7940\n",
            "Epoch 20/20\n",
            "50/50 [==============================] - 3s 59ms/step - loss: -1.1833 - f1_m: 0.9089 - val_loss: 1.7617 - val_f1_m: 0.7323\n",
            "{'loss': [0.08109872043132782, -0.05987680330872536, -0.1782580316066742, -0.1251371204853058, -0.15054301917552948, -0.13462674617767334, -0.3610614538192749, -0.40336430072784424, -0.4887288808822632, -0.5583043098449707, -0.6122885346412659, -0.7210529446601868, -0.841901957988739, -0.991787314414978, -0.8147007822990417, -0.5718755125999451, -0.7617173790931702, -0.9206724762916565, -1.0573674440383911, -1.1832777261734009], 'f1_m': [0.8640997409820557, 0.8996426463127136, 0.843954861164093, 0.8901957869529724, 0.8774474859237671, 0.7785394787788391, 0.8868775963783264, 0.8582533001899719, 0.9115909337997437, 0.8412801623344421, 0.913908064365387, 0.9099695682525635, 0.8946095108985901, 0.9025849103927612, 0.7922640442848206, 0.6170920133590698, 0.781067967414856, 0.8911259174346924, 0.8940099477767944, 0.9089211821556091], 'val_loss': [0.9247245192527771, 0.9894812703132629, 1.3813320398330688, 1.3330825567245483, 1.7028164863586426, 1.404833197593689, 1.3489041328430176, 1.2737791538238525, 1.5736790895462036, 1.6617364883422852, 1.634600043296814, 1.879603385925293, 1.6489259004592896, 2.1318359375, 1.5756440162658691, 1.4402836561203003, 1.4825007915496826, 1.5748465061187744, 1.6447094678878784, 1.7617017030715942], 'val_f1_m': [0.788605272769928, 0.7843834161758423, 0.7682209610939026, 0.7637017965316772, 0.5579220056533813, 0.7607291340827942, 0.7719895243644714, 0.8081013560295105, 0.8165852427482605, 0.8099957704544067, 0.8002195954322815, 0.7939702272415161, 0.8011823892593384, 0.7996571063995361, 0.263005793094635, 0.48671409487724304, 0.6390599608421326, 0.8017545938491821, 0.7940186858177185, 0.7322806119918823]}\n"
          ]
        }
      ]
    },
    {
      "cell_type": "code",
      "source": [
        "reviews2 = reviews2[['Review Text', 'Rating']]\n",
        "reviews2['Rating'] = reviews2['Rating'].map({1: -1, 2: -1, 3: 0, 4: 1, 5: 1})\n",
        "\n",
        "X2 = tokenizer.texts_to_sequences(reviews2['Review Text'])\n",
        "X2 = pad_sequences(X2, maxlen=64, padding='post', truncating='post')\n",
        "\n",
        "model.evaluate(X2, reviews2['Rating'])"
      ],
      "metadata": {
        "id": "HXpOioNk10hi",
        "colab": {
          "base_uri": "https://localhost:8080/"
        },
        "outputId": "9d57dfa0-fcf5-4afc-d401-09ec3a70c4b3"
      },
      "execution_count": 54,
      "outputs": [
        {
          "output_type": "stream",
          "name": "stdout",
          "text": [
            "708/708 [==============================] - 7s 9ms/step - loss: 0.6837 - f1_m: 0.7615\n"
          ]
        },
        {
          "output_type": "execute_result",
          "data": {
            "text/plain": [
              "[0.683712899684906, 0.7615448832511902]"
            ]
          },
          "metadata": {},
          "execution_count": 54
        }
      ]
    },
    {
      "cell_type": "code",
      "source": [
        "tf.random.set_seed(42)\n",
        "\n",
        "tokenizer = Tokenizer(num_words=10000)\n",
        "tokenizer.fit_on_texts(reviews['Text'])\n",
        "X = tokenizer.texts_to_sequences(reviews['Text'])\n",
        "X = pad_sequences(X, maxlen=128, padding='post', truncating='post')\n",
        "\n",
        "model = Sequential()\n",
        "model.add(Embedding(10000, 128, input_length=128))\n",
        "model.add(Bidirectional(LSTM(64, dropout=0.2)))\n",
        "model.add(Dense(1, activation='sigmoid'))\n",
        "\n",
        "\n",
        "learning_rate = 0.005\n",
        "batch_size = 16\n",
        "epochs = 20\n",
        "\n",
        "\n",
        "optimizer = tf.keras.optimizers.Adam(learning_rate=learning_rate)\n",
        "model.compile(loss='binary_crossentropy', optimizer=optimizer, metrics=[f1_m])\n",
        "\n",
        "early_stop = EarlyStopping(monitor='val_loss', patience=3)\n",
        "history = model.fit(X, reviews['Score'], batch_size=batch_size, epochs=epochs, validation_split=0.2, callbacks=[early_stop])\n",
        "\n",
        "\n",
        "learning_rate = 0.001\n",
        "epochs = 30\n",
        "optimizer = tf.keras.optimizers.Adam(learning_rate=learning_rate)\n",
        "model.compile(loss='binary_crossentropy', optimizer=optimizer, metrics=[f1_m])\n",
        "history = model.fit(X, reviews['Score'], batch_size=batch_size, epochs=epochs, validation_split=0.2)\n",
        "\n",
        "\n",
        "print(history.history)"
      ],
      "metadata": {
        "id": "XtK_Aye3QL6R",
        "colab": {
          "base_uri": "https://localhost:8080/"
        },
        "outputId": "df80f688-81fa-4998-d915-3860f76b6216"
      },
      "execution_count": 55,
      "outputs": [
        {
          "output_type": "stream",
          "name": "stdout",
          "text": [
            "Epoch 1/20\n",
            "50/50 [==============================] - 13s 186ms/step - loss: 0.6635 - f1_m: 0.8552 - val_loss: 0.6201 - val_f1_m: 0.8529\n",
            "Epoch 2/20\n",
            "50/50 [==============================] - 7s 134ms/step - loss: 0.2658 - f1_m: 0.8623 - val_loss: 0.8533 - val_f1_m: 0.8619\n",
            "Epoch 3/20\n",
            "50/50 [==============================] - 5s 111ms/step - loss: -0.8009 - f1_m: 0.9099 - val_loss: 3.4308 - val_f1_m: 0.5650\n",
            "Epoch 4/20\n",
            "50/50 [==============================] - 4s 78ms/step - loss: -3.0697 - f1_m: 0.9241 - val_loss: 1.5057 - val_f1_m: 0.8057\n",
            "Epoch 1/30\n",
            "50/50 [==============================] - 13s 193ms/step - loss: -6.5287 - f1_m: 0.9532 - val_loss: 2.7962 - val_f1_m: 0.8025\n",
            "Epoch 2/30\n",
            "50/50 [==============================] - 6s 124ms/step - loss: -7.5371 - f1_m: 0.9610 - val_loss: 3.1845 - val_f1_m: 0.7677\n",
            "Epoch 3/30\n",
            "50/50 [==============================] - 6s 119ms/step - loss: -8.4289 - f1_m: 0.9670 - val_loss: 2.3345 - val_f1_m: 0.7548\n",
            "Epoch 4/30\n",
            "50/50 [==============================] - 4s 78ms/step - loss: -9.3162 - f1_m: 0.9726 - val_loss: 2.6190 - val_f1_m: 0.7971\n",
            "Epoch 5/30\n",
            "50/50 [==============================] - 3s 66ms/step - loss: -10.2219 - f1_m: 0.9766 - val_loss: 4.1266 - val_f1_m: 0.6834\n",
            "Epoch 6/30\n",
            "50/50 [==============================] - 5s 101ms/step - loss: -10.8041 - f1_m: 0.9724 - val_loss: 3.2596 - val_f1_m: 0.7918\n",
            "Epoch 7/30\n",
            "50/50 [==============================] - 3s 55ms/step - loss: -11.9619 - f1_m: 0.9910 - val_loss: 2.5391 - val_f1_m: 0.7781\n",
            "Epoch 8/30\n",
            "50/50 [==============================] - 2s 49ms/step - loss: -12.0761 - f1_m: 0.9690 - val_loss: 6.0251 - val_f1_m: 0.6664\n",
            "Epoch 9/30\n",
            "50/50 [==============================] - 1s 24ms/step - loss: -12.4343 - f1_m: 0.9677 - val_loss: 7.5369 - val_f1_m: 0.6764\n",
            "Epoch 10/30\n",
            "50/50 [==============================] - 2s 36ms/step - loss: -12.9966 - f1_m: 0.9786 - val_loss: 6.3655 - val_f1_m: 0.7155\n",
            "Epoch 11/30\n",
            "50/50 [==============================] - 1s 27ms/step - loss: -14.4874 - f1_m: 0.9870 - val_loss: 5.1271 - val_f1_m: 0.7576\n",
            "Epoch 12/30\n",
            "50/50 [==============================] - 2s 49ms/step - loss: -15.3645 - f1_m: 0.9890 - val_loss: 5.1380 - val_f1_m: 0.7083\n",
            "Epoch 13/30\n",
            "50/50 [==============================] - 2s 41ms/step - loss: -16.3221 - f1_m: 0.9882 - val_loss: 6.7071 - val_f1_m: 0.7250\n",
            "Epoch 14/30\n",
            "50/50 [==============================] - 1s 23ms/step - loss: -17.1332 - f1_m: 0.9914 - val_loss: 7.2530 - val_f1_m: 0.7250\n",
            "Epoch 15/30\n",
            "50/50 [==============================] - 1s 19ms/step - loss: -17.9619 - f1_m: 0.9896 - val_loss: 6.6017 - val_f1_m: 0.7235\n",
            "Epoch 16/30\n",
            "50/50 [==============================] - 1s 18ms/step - loss: -18.7595 - f1_m: 0.9925 - val_loss: 6.7221 - val_f1_m: 0.7104\n",
            "Epoch 17/30\n",
            "50/50 [==============================] - 1s 15ms/step - loss: -19.5512 - f1_m: 0.9942 - val_loss: 6.5598 - val_f1_m: 0.7158\n",
            "Epoch 18/30\n",
            "50/50 [==============================] - 1s 19ms/step - loss: -20.3411 - f1_m: 0.9922 - val_loss: 6.7478 - val_f1_m: 0.7217\n",
            "Epoch 19/30\n",
            "50/50 [==============================] - 1s 21ms/step - loss: -21.1371 - f1_m: 0.9925 - val_loss: 7.9553 - val_f1_m: 0.7030\n",
            "Epoch 20/30\n",
            "50/50 [==============================] - 1s 15ms/step - loss: -21.7483 - f1_m: 0.9918 - val_loss: 7.0160 - val_f1_m: 0.7147\n",
            "Epoch 21/30\n",
            "50/50 [==============================] - 1s 12ms/step - loss: -22.7041 - f1_m: 0.9939 - val_loss: 6.7172 - val_f1_m: 0.7139\n",
            "Epoch 22/30\n",
            "50/50 [==============================] - 1s 18ms/step - loss: -23.4433 - f1_m: 0.9921 - val_loss: 8.0046 - val_f1_m: 0.7239\n",
            "Epoch 23/30\n",
            "50/50 [==============================] - 1s 16ms/step - loss: -24.3698 - f1_m: 0.9965 - val_loss: 7.8409 - val_f1_m: 0.6990\n",
            "Epoch 24/30\n",
            "50/50 [==============================] - 1s 15ms/step - loss: -25.0108 - f1_m: 0.9890 - val_loss: 12.9424 - val_f1_m: 0.5559\n",
            "Epoch 25/30\n",
            "50/50 [==============================] - 1s 15ms/step - loss: -25.9828 - f1_m: 0.9939 - val_loss: 10.8392 - val_f1_m: 0.7268\n",
            "Epoch 26/30\n",
            "50/50 [==============================] - 1s 21ms/step - loss: -26.6604 - f1_m: 0.9879 - val_loss: 8.9379 - val_f1_m: 0.7189\n",
            "Epoch 27/30\n",
            "50/50 [==============================] - 1s 20ms/step - loss: -27.5877 - f1_m: 0.9962 - val_loss: 9.7613 - val_f1_m: 0.7016\n",
            "Epoch 28/30\n",
            "50/50 [==============================] - 1s 29ms/step - loss: -28.4006 - f1_m: 0.9952 - val_loss: 10.1607 - val_f1_m: 0.7242\n",
            "Epoch 29/30\n",
            "50/50 [==============================] - 2s 32ms/step - loss: -29.2011 - f1_m: 0.9983 - val_loss: 10.0379 - val_f1_m: 0.7078\n",
            "Epoch 30/30\n",
            "50/50 [==============================] - 1s 28ms/step - loss: -29.9902 - f1_m: 0.9973 - val_loss: 11.3383 - val_f1_m: 0.7204\n",
            "{'loss': [-6.528688430786133, -7.537051200866699, -8.428853988647461, -9.316183090209961, -10.221898078918457, -10.80408000946045, -11.9619140625, -12.076102256774902, -12.434349060058594, -12.996625900268555, -14.487383842468262, -15.36452865600586, -16.322063446044922, -17.13323211669922, -17.961854934692383, -18.759506225585938, -19.551151275634766, -20.34109115600586, -21.137126922607422, -21.748332977294922, -22.704120635986328, -23.443286895751953, -24.369800567626953, -25.010835647583008, -25.982847213745117, -26.660350799560547, -27.587705612182617, -28.400556564331055, -29.201128005981445, -29.990209579467773], 'f1_m': [0.9531968832015991, 0.9609914422035217, 0.9669815301895142, 0.9725990295410156, 0.9766324758529663, 0.9724088907241821, 0.9910134673118591, 0.969048261642456, 0.9676914811134338, 0.9785583019256592, 0.9869828224182129, 0.988995373249054, 0.9882464408874512, 0.9914120435714722, 0.9895892143249512, 0.9924787878990173, 0.9942401647567749, 0.992152988910675, 0.9924560785293579, 0.9917941093444824, 0.9938966631889343, 0.9920902252197266, 0.9965370297431946, 0.9889990091323853, 0.9939056634902954, 0.9879070520401001, 0.9961778521537781, 0.9951762557029724, 0.9983068704605103, 0.9973053932189941], 'val_loss': [2.7962350845336914, 3.184537887573242, 2.334531307220459, 2.6190247535705566, 4.126636505126953, 3.2595837116241455, 2.5390937328338623, 6.025056838989258, 7.536865711212158, 6.36553955078125, 5.127070426940918, 5.138046741485596, 6.707099437713623, 7.253036022186279, 6.601675033569336, 6.7220940589904785, 6.559820175170898, 6.747848033905029, 7.955322265625, 7.016014575958252, 6.717236518859863, 8.004591941833496, 7.8409271240234375, 12.942395210266113, 10.839221000671387, 8.937889099121094, 9.761266708374023, 10.16069507598877, 10.037914276123047, 11.338325500488281], 'val_f1_m': [0.8024882078170776, 0.7676621675491333, 0.7547711133956909, 0.7971147298812866, 0.6833677291870117, 0.7918444871902466, 0.778134286403656, 0.6664394736289978, 0.6763783693313599, 0.7154948711395264, 0.7576450705528259, 0.7083415985107422, 0.7249898314476013, 0.7249898314476013, 0.7234655022621155, 0.7104154825210571, 0.7158193588256836, 0.7216975092887878, 0.7029842734336853, 0.7146915793418884, 0.713863730430603, 0.7239121198654175, 0.6990107893943787, 0.5558521747589111, 0.7268480658531189, 0.7188946008682251, 0.7016063332557678, 0.7242447733879089, 0.7078478932380676, 0.7203761339187622]}\n"
          ]
        }
      ]
    },
    {
      "cell_type": "code",
      "source": [
        "reviews2 = dataset2[['Review Text', 'Rating']]\n",
        "reviews2 = reviews2.drop_duplicates(subset='Review Text', keep='first')\n",
        "reviews2.dropna()\n",
        "reviews2['Review Text'] = reviews2['Review Text'].astype(str)\n",
        "reviews2['Review Text'] = reviews2['Review Text'].apply(process_text)\n",
        "\n",
        "\n",
        "reviews2['Review Text'] = reviews2['Review Text'].apply(word_tokenize)\n",
        "\n",
        "reviews2['Review Text'] = reviews2['Review Text'].apply(process_stopwords)\n",
        "reviews2 = reviews2[['Review Text', 'Rating']]\n",
        "reviews2['Rating'] = reviews2['Rating'].map({1: -1, 2: -1, 3: 0, 4: 1, 5: 1})\n",
        "X2 = tokenizer.texts_to_sequences(reviews2['Review Text'])\n",
        "X2 = pad_sequences(X2, maxlen=128, padding='post', truncating='post')\n",
        "\n",
        "loss, f1 = model.evaluate(X2, reviews2['Rating'])"
      ],
      "metadata": {
        "id": "LniPg6KD2MXM",
        "colab": {
          "base_uri": "https://localhost:8080/"
        },
        "outputId": "50e6dbfe-97cd-4658-c362-6b3f7daa9262"
      },
      "execution_count": 56,
      "outputs": [
        {
          "output_type": "stream",
          "name": "stdout",
          "text": [
            "708/708 [==============================] - 4s 6ms/step - loss: 22.4936 - f1_m: 0.3626\n"
          ]
        }
      ]
    }
  ]
}